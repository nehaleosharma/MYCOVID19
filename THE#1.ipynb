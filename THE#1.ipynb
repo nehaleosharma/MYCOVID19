{
 "cells": [
  {
   "cell_type": "markdown",
   "metadata": {},
   "source": [
    "INFECTION FATELITY RATE (IFR)"
   ]
  },
  {
   "cell_type": "code",
   "execution_count": 13,
   "metadata": {},
   "outputs": [],
   "source": [
    "#FUNCTION TO CALCULATE IFR\n",
    "def ifr(infected, deaths):\n",
    "    ifr = (deaths/infected)*100\n",
    "    print(\"the ifr = {} %\" . format(ifr))"
   ]
  },
  {
   "cell_type": "code",
   "execution_count": 16,
   "metadata": {},
   "outputs": [
    {
     "name": "stdout",
     "output_type": "stream",
     "text": [
      "the ifr = 4.196316143957364 %\n"
     ]
    }
   ],
   "source": [
    "ifr(136596,5732)"
   ]
  },
  {
   "cell_type": "markdown",
   "metadata": {},
   "source": [
    "CRUDE MORTALITY RATE   (CMR)"
   ]
  },
  {
   "cell_type": "code",
   "execution_count": 18,
   "metadata": {},
   "outputs": [],
   "source": [
    "# FUNCTION TO CALCUATE CMR\n",
    "def cmr(deaths, population):\n",
    "    cmr = (deaths/population)*100000\n",
    "    print(\"the cmr = {} %\" . format(cmr))\n"
   ]
  },
  {
   "cell_type": "code",
   "execution_count": 19,
   "metadata": {},
   "outputs": [
    {
     "name": "stdout",
     "output_type": "stream",
     "text": [
      "the cmr = 2803.125886368749 %\n"
     ]
    }
   ],
   "source": [
    "cmr(5732, 204486)"
   ]
  }
 ],
 "metadata": {
  "kernelspec": {
   "display_name": "Python 3",
   "language": "python",
   "name": "python3"
  },
  "language_info": {
   "codemirror_mode": {
    "name": "ipython",
    "version": 3
   },
   "file_extension": ".py",
   "mimetype": "text/x-python",
   "name": "python",
   "nbconvert_exporter": "python",
   "pygments_lexer": "ipython3",
   "version": "3.7.3"
  }
 },
 "nbformat": 4,
 "nbformat_minor": 2
}
