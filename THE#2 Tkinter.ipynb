{
 "cells": [
  {
   "cell_type": "markdown",
   "metadata": {},
   "source": [
    "TKinter"
   ]
  },
  {
   "cell_type": "code",
   "execution_count": 5,
   "metadata": {},
   "outputs": [],
   "source": [
    "import tkinter as tk\n",
    "window =  tk . Tk()\n",
    "window.title(\"Pnademic analytics engine\")\n",
    "\n",
    "\n",
    "\n",
    "window.mainloop()"
   ]
  },
  {
   "cell_type": "code",
   "execution_count": 37,
   "metadata": {},
   "outputs": [],
   "source": [
    "from tkinter import *\n",
    "master = Tk() \n",
    "master.title(\"Pandemic Analyzer\")\n",
    "Label(master, text='Select state', fg='red').grid(row=0) \n",
    "Label(master, text='Infected', fg='blue').grid(row=1) \n",
    "Label(master, text='Recovered', fg='yellow').grid(row=2) \n",
    "Label(master, text='Deceased', fg='blue').grid(row=3) \n",
    "e1 = Entry(master) \n",
    "e2 = Entry(master)\n",
    "e3 = Entry(master) \n",
    "e4 = Entry(master)\n",
    "e1.grid(row=0, column=1) \n",
    "e2.grid(row=1, column=1) \n",
    "e3.grid(row=2, column=1) \n",
    "e4.grid(row=3, column=1) \n",
    "mainloop() \n"
   ]
  }
 ],
 "metadata": {
  "kernelspec": {
   "display_name": "Python 3",
   "language": "python",
   "name": "python3"
  },
  "language_info": {
   "codemirror_mode": {
    "name": "ipython",
    "version": 3
   },
   "file_extension": ".py",
   "mimetype": "text/x-python",
   "name": "python",
   "nbconvert_exporter": "python",
   "pygments_lexer": "ipython3",
   "version": "3.7.3"
  }
 },
 "nbformat": 4,
 "nbformat_minor": 2
}
